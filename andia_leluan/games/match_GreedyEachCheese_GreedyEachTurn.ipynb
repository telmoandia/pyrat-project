{
 "cells": [
  {
   "cell_type": "markdown",
   "metadata": {},
   "source": [
    "<h1 style=\"background-color: gray;\n",
    "           color: black;\n",
    "           padding: 20px;\n",
    "           text-align: center;\">INFO</h1>\n",
    "\n",
    "This script creates a sample game, in which two players compete in the maze."
   ]
  },
  {
   "cell_type": "markdown",
   "metadata": {},
   "source": [
    "<h1 style=\"background-color: gray;\n",
    "           color: black;\n",
    "           padding: 20px;\n",
    "           text-align: center;\">IMPORTS</h1>"
   ]
  },
  {
   "cell_type": "code",
   "execution_count": 6,
   "metadata": {},
   "outputs": [],
   "source": [
    "# External imports\n",
    "import sys\n",
    "import os\n",
    "import pprint\n",
    "\n",
    "# Add needed directories to the path\n",
    "sys.path.append(os.path.join(\"..\", \"players\"))\n",
    "\n",
    "# PyRat imports\n",
    "from pyrat import Game, PlayerSkin, StartingLocation\n",
    "from GreedyEachCheese import GreedyEachCheese\n",
    "from GreedyEachTurn import GreedyEachTurn"
   ]
  },
  {
   "cell_type": "markdown",
   "metadata": {},
   "source": [
    "<h1 style=\"background-color: gray;\n",
    "           color: black;\n",
    "           padding: 20px;\n",
    "           text-align: center;\">CONSTANTS</h1>\n",
    "\n",
    "Let's configure the game with a dictionary."
   ]
  },
  {
   "cell_type": "code",
   "execution_count": 7,
   "metadata": {},
   "outputs": [],
   "source": [
    "# Customize the game elements\n",
    "CONFIG = {\"mud_percentage\": 20.0,\n",
    "          \"cell_percentage\": 80.0,\n",
    "          \"wall_percentage\": 60.0,\n",
    "          \"maze_width\": 25,\n",
    "          \"maze_height\": 20,\n",
    "          \"nb_cheese\": 5,\n",
    "          \"trace_length\": 50}"
   ]
  },
  {
   "cell_type": "markdown",
   "metadata": {},
   "source": [
    "<h1 style=\"background-color: gray;\n",
    "           color: black;\n",
    "           padding: 20px;\n",
    "           text-align: center;\">RUN THE GAME</h1>"
   ]
  },
  {
   "cell_type": "markdown",
   "metadata": {},
   "source": [
    "We perform a single game with the configuration defined above."
   ]
  },
  {
   "cell_type": "code",
   "execution_count": 8,
   "metadata": {},
   "outputs": [
    {
     "name": "stdout",
     "output_type": "stream",
     "text": [
      "GreedyEachCheese Player Initialized\n",
      "GreedyEachTurn Player Initialized\n"
     ]
    }
   ],
   "source": [
    "# Instantiate a game with specified arguments\n",
    "game = Game(**CONFIG)\n",
    "\n",
    "# Instantiate players in distinct teams\n",
    "player_1 = GreedyEachCheese(skin=PlayerSkin.RAT)\n",
    "player_2 = GreedyEachTurn(skin=PlayerSkin.PYTHON)\n",
    "\n",
    "\n",
    "game.add_player(player_1, team=\"Team Ratz\", location=StartingLocation.RANDOM)\n",
    "game.add_player(player_2, team=\"Team Pythonz\", location=StartingLocation.RANDOM)\n",
    "# Start the game\n",
    "stats = game.start()"
   ]
  },
  {
   "cell_type": "markdown",
   "metadata": {},
   "source": [
    "We visualize results using a pretty printer."
   ]
  },
  {
   "cell_type": "code",
   "execution_count": 9,
   "metadata": {},
   "outputs": [
    {
     "name": "stdout",
     "output_type": "stream",
     "text": [
      "{'players': {'GreedyEachCheese': {'actions': {'east': 14,\n",
      "                                              'error': 0,\n",
      "                                              'miss': 106,\n",
      "                                              'mud': 84,\n",
      "                                              'north': 20,\n",
      "                                              'nothing': 0,\n",
      "                                              'south': 15,\n",
      "                                              'wall': 0,\n",
      "                                              'west': 23},\n",
      "                                  'preprocessing_duration': 0.0,\n",
      "                                  'score': 1.5,\n",
      "                                  'team': 'Team Ratz',\n",
      "                                  'turn_durations': [0.25,\n",
      "                                                     0.140625,\n",
      "                                                     0.109375,\n",
      "                                                     0.078125,\n",
      "                                                     0.0625,\n",
      "                                                     0.15625,\n",
      "                                                     0.078125,\n",
      "                                                     0.078125,\n",
      "                                                     0.140625,\n",
      "                                                     0.09375,\n",
      "                                                     0.03125,\n",
      "                                                     0.15625,\n",
      "                                                     0.078125,\n",
      "                                                     0.09375,\n",
      "                                                     0.078125,\n",
      "                                                     0.15625,\n",
      "                                                     0.109375,\n",
      "                                                     0.09375,\n",
      "                                                     0.09375,\n",
      "                                                     0.09375,\n",
      "                                                     0.203125,\n",
      "                                                     0.125,\n",
      "                                                     0.140625,\n",
      "                                                     0.15625,\n",
      "                                                     0.109375,\n",
      "                                                     0.1875,\n",
      "                                                     0.109375,\n",
      "                                                     0.078125,\n",
      "                                                     0.09375,\n",
      "                                                     0.09375,\n",
      "                                                     0.0625,\n",
      "                                                     0.09375,\n",
      "                                                     0.03125,\n",
      "                                                     0.0625,\n",
      "                                                     0.015625,\n",
      "                                                     0.046875,\n",
      "                                                     0.015625,\n",
      "                                                     0.046875,\n",
      "                                                     0.015625,\n",
      "                                                     0.078125,\n",
      "                                                     0.046875,\n",
      "                                                     0.046875,\n",
      "                                                     0.03125,\n",
      "                                                     0.03125,\n",
      "                                                     0.046875,\n",
      "                                                     0.046875,\n",
      "                                                     0.046875,\n",
      "                                                     0.046875,\n",
      "                                                     0.078125,\n",
      "                                                     0.03125,\n",
      "                                                     0.0,\n",
      "                                                     0.015625,\n",
      "                                                     0.046875,\n",
      "                                                     0.0625,\n",
      "                                                     0.078125,\n",
      "                                                     0.09375,\n",
      "                                                     0.078125,\n",
      "                                                     0.09375,\n",
      "                                                     0.0625,\n",
      "                                                     0.0625,\n",
      "                                                     0.0625,\n",
      "                                                     0.078125,\n",
      "                                                     0.0,\n",
      "                                                     0.03125,\n",
      "                                                     0.015625,\n",
      "                                                     0.0,\n",
      "                                                     0.03125,\n",
      "                                                     0.0,\n",
      "                                                     0.0,\n",
      "                                                     0.0,\n",
      "                                                     0.015625,\n",
      "                                                     0.0]},\n",
      "             'GreedyEachTurn': {'actions': {'east': 7,\n",
      "                                            'error': 0,\n",
      "                                            'miss': 99,\n",
      "                                            'mud': 93,\n",
      "                                            'north': 17,\n",
      "                                            'nothing': 0,\n",
      "                                            'south': 19,\n",
      "                                            'wall': 0,\n",
      "                                            'west': 27},\n",
      "                                'preprocessing_duration': 0.0,\n",
      "                                'score': 3.5,\n",
      "                                'team': 'Team Pythonz',\n",
      "                                'turn_durations': [0.234375,\n",
      "                                                   0.078125,\n",
      "                                                   0.109375,\n",
      "                                                   0.140625,\n",
      "                                                   0.125,\n",
      "                                                   0.0625,\n",
      "                                                   0.140625,\n",
      "                                                   0.140625,\n",
      "                                                   0.109375,\n",
      "                                                   0.125,\n",
      "                                                   0.15625,\n",
      "                                                   0.109375,\n",
      "                                                   0.0625,\n",
      "                                                   0.125,\n",
      "                                                   0.125,\n",
      "                                                   0.140625,\n",
      "                                                   0.140625,\n",
      "                                                   0.0625,\n",
      "                                                   0.03125,\n",
      "                                                   0.140625,\n",
      "                                                   0.140625,\n",
      "                                                   0.078125,\n",
      "                                                   0.203125,\n",
      "                                                   0.140625,\n",
      "                                                   0.09375,\n",
      "                                                   0.09375,\n",
      "                                                   0.078125,\n",
      "                                                   0.078125,\n",
      "                                                   0.078125,\n",
      "                                                   0.015625,\n",
      "                                                   0.046875,\n",
      "                                                   0.09375,\n",
      "                                                   0.078125,\n",
      "                                                   0.09375,\n",
      "                                                   0.0625,\n",
      "                                                   0.03125,\n",
      "                                                   0.03125,\n",
      "                                                   0.015625,\n",
      "                                                   0.03125,\n",
      "                                                   0.046875,\n",
      "                                                   0.03125,\n",
      "                                                   0.03125,\n",
      "                                                   0.046875,\n",
      "                                                   0.03125,\n",
      "                                                   0.015625,\n",
      "                                                   0.0625,\n",
      "                                                   0.078125,\n",
      "                                                   0.078125,\n",
      "                                                   0.03125,\n",
      "                                                   0.046875,\n",
      "                                                   0.03125,\n",
      "                                                   0.046875,\n",
      "                                                   0.09375,\n",
      "                                                   0.0625,\n",
      "                                                   0.046875,\n",
      "                                                   0.046875,\n",
      "                                                   0.03125,\n",
      "                                                   0.046875,\n",
      "                                                   0.03125,\n",
      "                                                   0.03125,\n",
      "                                                   0.03125,\n",
      "                                                   0.015625,\n",
      "                                                   0.0,\n",
      "                                                   0.0,\n",
      "                                                   0.0,\n",
      "                                                   0.0,\n",
      "                                                   0.0,\n",
      "                                                   0.0,\n",
      "                                                   0.0,\n",
      "                                                   0.0]}},\n",
      " 'turns': 262}\n"
     ]
    }
   ],
   "source": [
    "# Show statistics\n",
    "pprint.pprint(stats)"
   ]
  },
  {
   "cell_type": "code",
   "execution_count": 10,
   "metadata": {},
   "outputs": [
    {
     "ename": "NameError",
     "evalue": "name 'run_game' is not defined",
     "output_type": "error",
     "traceback": [
      "\u001b[1;31m---------------------------------------------------------------------------\u001b[0m",
      "\u001b[1;31mNameError\u001b[0m                                 Traceback (most recent call last)",
      "Cell \u001b[1;32mIn[10], line 3\u001b[0m\n\u001b[0;32m      1\u001b[0m results \u001b[38;5;241m=\u001b[39m []\n\u001b[0;32m      2\u001b[0m \u001b[38;5;28;01mfor\u001b[39;00m _ \u001b[38;5;129;01min\u001b[39;00m \u001b[38;5;28mrange\u001b[39m(\u001b[38;5;241m100\u001b[39m):\n\u001b[1;32m----> 3\u001b[0m     winner \u001b[38;5;241m=\u001b[39m \u001b[43mrun_game\u001b[49m()\n\u001b[0;32m      4\u001b[0m     results\u001b[38;5;241m.\u001b[39mappend(winner)\n\u001b[0;32m      6\u001b[0m \u001b[38;5;66;03m# Calculate the number of wins for each player\u001b[39;00m\n",
      "\u001b[1;31mNameError\u001b[0m: name 'run_game' is not defined"
     ]
    }
   ],
   "source": [
    "results = []\n",
    "for _ in range(100):\n",
    "    winner = run_game()\n",
    "    results.append(winner)\n",
    "\n",
    "# Calculate the number of wins for each player\n",
    "greedy_wins = results.count(\"Greedy\")\n",
    "greedy_each_turn_wins = results.count(\"GreedyEachTurn\")\n",
    "\n",
    "print(f\"Greedy wins: {greedy_wins}\")\n",
    "print(f\"GreedyEachTurn wins: {greedy_each_turn_wins}\")"
   ]
  }
 ],
 "metadata": {
  "kernelspec": {
   "display_name": "Python 3",
   "language": "python",
   "name": "python3"
  },
  "language_info": {
   "codemirror_mode": {
    "name": "ipython",
    "version": 3
   },
   "file_extension": ".py",
   "mimetype": "text/x-python",
   "name": "python",
   "nbconvert_exporter": "python",
   "pygments_lexer": "ipython3",
   "version": "3.12.6"
  }
 },
 "nbformat": 4,
 "nbformat_minor": 2
}
