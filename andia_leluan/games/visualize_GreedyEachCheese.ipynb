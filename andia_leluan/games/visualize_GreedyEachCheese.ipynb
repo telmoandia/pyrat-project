{
 "cells": [
  {
   "cell_type": "markdown",
   "metadata": {},
   "source": [
    "<h1 style=\"background-color: gray;\n",
    "           color: black;\n",
    "           padding: 20px;\n",
    "           text-align: center;\">INFO</h1>\n",
    "\n",
    "This script creates a sample game, in which two players compete in the maze."
   ]
  },
  {
   "cell_type": "markdown",
   "metadata": {},
   "source": [
    "<h1 style=\"background-color: gray;\n",
    "           color: black;\n",
    "           padding: 20px;\n",
    "           text-align: center;\">IMPORTS</h1>"
   ]
  },
  {
   "cell_type": "code",
   "execution_count": 1,
   "metadata": {},
   "outputs": [],
   "source": [
    "# External imports\n",
    "import sys\n",
    "import os\n",
    "import pprint\n",
    "\n",
    "# Add needed directories to the path\n",
    "sys.path.append(os.path.join(\"..\", \"players\"))\n",
    "\n",
    "# PyRat imports\n",
    "from pyrat import Game, PlayerSkin\n",
    "from GreedyEachCheese import GreedyEachCheese\n"
   ]
  },
  {
   "cell_type": "markdown",
   "metadata": {},
   "source": [
    "<h1 style=\"background-color: gray;\n",
    "           color: black;\n",
    "           padding: 20px;\n",
    "           text-align: center;\">CONSTANTS</h1>\n",
    "\n",
    "Let's configure the game with a dictionary."
   ]
  },
  {
   "cell_type": "code",
   "execution_count": 2,
   "metadata": {},
   "outputs": [],
   "source": [
    "# Customize the game elements\n",
    "CONFIG = {\"mud_percentage\": 20.0,\n",
    "          \"cell_percentage\": 80.0,\n",
    "          \"wall_percentage\": 60.0,\n",
    "          \"maze_width\": 25,\n",
    "          \"maze_height\": 20,\n",
    "          \"nb_cheese\": 4,\n",
    "          \"trace_length\": 50}"
   ]
  },
  {
   "cell_type": "markdown",
   "metadata": {},
   "source": [
    "<h1 style=\"background-color: gray;\n",
    "           color: black;\n",
    "           padding: 20px;\n",
    "           text-align: center;\">RUN THE GAME</h1>"
   ]
  },
  {
   "cell_type": "markdown",
   "metadata": {},
   "source": [
    "We perform a single game with the configuration defined above."
   ]
  },
  {
   "cell_type": "code",
   "execution_count": 3,
   "metadata": {},
   "outputs": [
    {
     "name": "stdout",
     "output_type": "stream",
     "text": [
      "GreedyEachCheese Player Initialized\n"
     ]
    }
   ],
   "source": [
    "# Instantiate a game with specified arguments\n",
    "game = Game(**CONFIG)\n",
    "\n",
    "# Instantiate players in distinct teams\n",
    "player_1 = GreedyEachCheese(skin=PlayerSkin.RAT)\n",
    "\n",
    "game.add_player(player_1, \"Team GreedyEachCheese\")\n",
    "\n",
    "\n",
    "# Start the game\n",
    "stats = game.start()"
   ]
  },
  {
   "cell_type": "markdown",
   "metadata": {},
   "source": [
    "We visualize results using a pretty printer."
   ]
  },
  {
   "cell_type": "code",
   "execution_count": 4,
   "metadata": {},
   "outputs": [
    {
     "name": "stdout",
     "output_type": "stream",
     "text": [
      "{'players': {'GreedyEachCheese': {'actions': {'east': 8,\n",
      "                                              'error': 0,\n",
      "                                              'miss': 45,\n",
      "                                              'mud': 38,\n",
      "                                              'north': 11,\n",
      "                                              'nothing': 0,\n",
      "                                              'south': 9,\n",
      "                                              'wall': 0,\n",
      "                                              'west': 15},\n",
      "                                  'preprocessing_duration': 0.0,\n",
      "                                  'score': 4.0,\n",
      "                                  'team': 'Team GreedyEachCheese',\n",
      "                                  'turn_durations': [0.109375,\n",
      "                                                     0.078125,\n",
      "                                                     0.0625,\n",
      "                                                     0.0625,\n",
      "                                                     0.09375,\n",
      "                                                     0.078125,\n",
      "                                                     0.078125,\n",
      "                                                     0.046875,\n",
      "                                                     0.078125,\n",
      "                                                     0.0625,\n",
      "                                                     0.15625,\n",
      "                                                     0.046875,\n",
      "                                                     0.046875,\n",
      "                                                     0.078125,\n",
      "                                                     0.203125,\n",
      "                                                     0.1875,\n",
      "                                                     0.03125,\n",
      "                                                     0.15625,\n",
      "                                                     0.21875,\n",
      "                                                     0.109375,\n",
      "                                                     0.09375,\n",
      "                                                     0.0625,\n",
      "                                                     0.046875,\n",
      "                                                     0.046875,\n",
      "                                                     0.015625,\n",
      "                                                     0.0625,\n",
      "                                                     0.0,\n",
      "                                                     0.046875,\n",
      "                                                     0.015625,\n",
      "                                                     0.0,\n",
      "                                                     0.0,\n",
      "                                                     0.0,\n",
      "                                                     0.015625,\n",
      "                                                     0.015625,\n",
      "                                                     0.015625,\n",
      "                                                     0.0,\n",
      "                                                     0.015625,\n",
      "                                                     0.015625,\n",
      "                                                     0.0,\n",
      "                                                     0.0,\n",
      "                                                     0.0,\n",
      "                                                     0.0,\n",
      "                                                     0.0]}},\n",
      " 'turns': 126}\n"
     ]
    }
   ],
   "source": [
    "# Show statistics\n",
    "pprint.pprint(stats)"
   ]
  }
 ],
 "metadata": {
  "kernelspec": {
   "display_name": "Python 3",
   "language": "python",
   "name": "python3"
  },
  "language_info": {
   "codemirror_mode": {
    "name": "ipython",
    "version": 3
   },
   "file_extension": ".py",
   "mimetype": "text/x-python",
   "name": "python",
   "nbconvert_exporter": "python",
   "pygments_lexer": "ipython3",
   "version": "3.12.6"
  }
 },
 "nbformat": 4,
 "nbformat_minor": 2
}
