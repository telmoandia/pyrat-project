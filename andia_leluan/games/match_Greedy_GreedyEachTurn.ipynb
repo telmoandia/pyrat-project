{
 "cells": [
  {
   "cell_type": "markdown",
   "metadata": {},
   "source": [
    "<h1 style=\"background-color: gray;\n",
    "           color: black;\n",
    "           padding: 20px;\n",
    "           text-align: center;\">INFO</h1>\n",
    "\n",
    "This script creates a sample game, in which two players compete in the maze."
   ]
  },
  {
   "cell_type": "markdown",
   "metadata": {},
   "source": [
    "<h1 style=\"background-color: gray;\n",
    "           color: black;\n",
    "           padding: 20px;\n",
    "           text-align: center;\">IMPORTS</h1>"
   ]
  },
  {
   "cell_type": "code",
   "execution_count": 13,
   "metadata": {},
   "outputs": [],
   "source": [
    "# External imports\n",
    "import sys\n",
    "import os\n",
    "import pprint\n",
    "\n",
    "# Add needed directories to the path\n",
    "sys.path.append(os.path.join(\"..\", \"players\"))\n",
    "\n",
    "# PyRat imports\n",
    "from pyrat import Game, PlayerSkin, StartingLocation\n",
    "from Greedy1 import Greedy\n",
    "from GreedyEachTurn import GreedyEachTurn"
   ]
  },
  {
   "cell_type": "markdown",
   "metadata": {},
   "source": [
    "<h1 style=\"background-color: gray;\n",
    "           color: black;\n",
    "           padding: 20px;\n",
    "           text-align: center;\">CONSTANTS</h1>\n",
    "\n",
    "Let's configure the game with a dictionary."
   ]
  },
  {
   "cell_type": "code",
   "execution_count": 14,
   "metadata": {},
   "outputs": [],
   "source": [
    "# Customize the game elements\n",
    "CONFIG = {\"mud_percentage\": 20.0,\n",
    "          \"cell_percentage\": 80.0,\n",
    "          \"wall_percentage\": 60.0,\n",
    "          \"maze_width\": 25,\n",
    "          \"maze_height\": 20,\n",
    "          \"nb_cheese\": 20,\n",
    "          \"trace_length\": 50}"
   ]
  },
  {
   "cell_type": "markdown",
   "metadata": {},
   "source": [
    "<h1 style=\"background-color: gray;\n",
    "           color: black;\n",
    "           padding: 20px;\n",
    "           text-align: center;\">RUN THE GAME</h1>"
   ]
  },
  {
   "cell_type": "markdown",
   "metadata": {},
   "source": [
    "We perform a single game with the configuration defined above."
   ]
  },
  {
   "cell_type": "code",
   "execution_count": 15,
   "metadata": {},
   "outputs": [
    {
     "name": "stdout",
     "output_type": "stream",
     "text": [
      "Greedy Cheese Collector Initialized\n",
      "GreedyEachTurn Player Initialized\n"
     ]
    }
   ],
   "source": [
    "# Instantiate a game with specified arguments\n",
    "game = Game(**CONFIG)\n",
    "\n",
    "# Instantiate players in distinct teams\n",
    "player_1 = Greedy(skin=PlayerSkin.RAT)\n",
    "player_2 = GreedyEachTurn(skin=PlayerSkin.PYTHON)\n",
    "\n",
    "\n",
    "game.add_player(player_1, team=\"Team Ratz\", location=StartingLocation.RANDOM)\n",
    "game.add_player(player_2, team=\"Team Pythonz\", location=StartingLocation.RANDOM)\n",
    "# Start the game\n",
    "stats = game.start()"
   ]
  },
  {
   "cell_type": "markdown",
   "metadata": {},
   "source": [
    "We visualize results using a pretty printer."
   ]
  },
  {
   "cell_type": "code",
   "execution_count": 16,
   "metadata": {},
   "outputs": [
    {
     "name": "stdout",
     "output_type": "stream",
     "text": [
      "{'players': {'Greedy': {'actions': {'east': 24,\n",
      "                                    'error': 0,\n",
      "                                    'miss': 0,\n",
      "                                    'mud': 92,\n",
      "                                    'north': 18,\n",
      "                                    'nothing': 12,\n",
      "                                    'south': 19,\n",
      "                                    'wall': 0,\n",
      "                                    'west': 6},\n",
      "                        'preprocessing_duration': 0.0,\n",
      "                        'score': 11.0,\n",
      "                        'team': 'Team Ratz',\n",
      "                        'turn_durations': [0.0,\n",
      "                                           0.0,\n",
      "                                           0.0,\n",
      "                                           0.0,\n",
      "                                           0.0,\n",
      "                                           0.0,\n",
      "                                           0.0,\n",
      "                                           0.0,\n",
      "                                           0.0,\n",
      "                                           0.0,\n",
      "                                           0.0,\n",
      "                                           0.0,\n",
      "                                           0.0,\n",
      "                                           0.0,\n",
      "                                           0.0,\n",
      "                                           0.0,\n",
      "                                           0.0,\n",
      "                                           0.0,\n",
      "                                           0.0,\n",
      "                                           0.0,\n",
      "                                           0.0,\n",
      "                                           0.0,\n",
      "                                           0.0,\n",
      "                                           0.0,\n",
      "                                           0.0,\n",
      "                                           0.0,\n",
      "                                           0.0,\n",
      "                                           0.0,\n",
      "                                           0.0,\n",
      "                                           0.0,\n",
      "                                           0.0,\n",
      "                                           0.0,\n",
      "                                           0.0,\n",
      "                                           0.0,\n",
      "                                           0.0,\n",
      "                                           0.0,\n",
      "                                           0.0,\n",
      "                                           0.0,\n",
      "                                           0.0,\n",
      "                                           0.0,\n",
      "                                           0.0,\n",
      "                                           0.0,\n",
      "                                           0.0,\n",
      "                                           0.0,\n",
      "                                           0.0,\n",
      "                                           0.0,\n",
      "                                           0.0,\n",
      "                                           0.0,\n",
      "                                           0.0,\n",
      "                                           0.0,\n",
      "                                           0.0,\n",
      "                                           0.0,\n",
      "                                           0.0,\n",
      "                                           0.0,\n",
      "                                           0.0,\n",
      "                                           0.0,\n",
      "                                           0.0,\n",
      "                                           0.0,\n",
      "                                           0.0,\n",
      "                                           0.0,\n",
      "                                           0.0,\n",
      "                                           0.0,\n",
      "                                           0.0,\n",
      "                                           0.0,\n",
      "                                           0.0,\n",
      "                                           0.0,\n",
      "                                           0.0,\n",
      "                                           0.0,\n",
      "                                           0.0,\n",
      "                                           0.0,\n",
      "                                           0.0,\n",
      "                                           0.0,\n",
      "                                           0.0,\n",
      "                                           0.0,\n",
      "                                           0.0,\n",
      "                                           0.0,\n",
      "                                           0.0,\n",
      "                                           0.0,\n",
      "                                           0.0]},\n",
      "             'GreedyEachTurn': {'actions': {'east': 11,\n",
      "                                            'error': 0,\n",
      "                                            'miss': 120,\n",
      "                                            'mud': 22,\n",
      "                                            'north': 0,\n",
      "                                            'nothing': 0,\n",
      "                                            'south': 13,\n",
      "                                            'wall': 0,\n",
      "                                            'west': 5},\n",
      "                                'preprocessing_duration': 0.0,\n",
      "                                'score': 3.0,\n",
      "                                'team': 'Team Pythonz',\n",
      "                                'turn_durations': [0.203125,\n",
      "                                                   0.140625,\n",
      "                                                   0.15625,\n",
      "                                                   0.15625,\n",
      "                                                   0.078125,\n",
      "                                                   0.125,\n",
      "                                                   0.171875,\n",
      "                                                   0.078125,\n",
      "                                                   0.21875,\n",
      "                                                   0.109375,\n",
      "                                                   0.046875,\n",
      "                                                   0.125,\n",
      "                                                   0.234375,\n",
      "                                                   0.15625,\n",
      "                                                   0.078125,\n",
      "                                                   0.109375,\n",
      "                                                   0.0625,\n",
      "                                                   0.015625,\n",
      "                                                   0.03125,\n",
      "                                                   0.09375,\n",
      "                                                   0.015625,\n",
      "                                                   0.015625,\n",
      "                                                   0.0625,\n",
      "                                                   0.015625,\n",
      "                                                   0.046875,\n",
      "                                                   0.015625,\n",
      "                                                   0.046875,\n",
      "                                                   0.03125,\n",
      "                                                   0.109375]}},\n",
      " 'turns': 171}\n"
     ]
    }
   ],
   "source": [
    "# Show statistics\n",
    "pprint.pprint(stats)"
   ]
  },
  {
   "cell_type": "code",
   "execution_count": null,
   "metadata": {},
   "outputs": [],
   "source": [
    "results = []\n",
    "for _ in range(100):\n",
    "    winner = run_game()\n",
    "    results.append(winner)\n",
    "\n",
    "# Calculate the number of wins for each player\n",
    "greedy_wins = results.count(\"Greedy\")\n",
    "greedy_each_turn_wins = results.count(\"GreedyEachTurn\")\n",
    "\n",
    "print(f\"Greedy wins: {greedy_wins}\")\n",
    "print(f\"GreedyEachTurn wins: {greedy_each_turn_wins}\")"
   ]
  }
 ],
 "metadata": {
  "kernelspec": {
   "display_name": "Python 3",
   "language": "python",
   "name": "python3"
  },
  "language_info": {
   "codemirror_mode": {
    "name": "ipython",
    "version": 3
   },
   "file_extension": ".py",
   "mimetype": "text/x-python",
   "name": "python",
   "nbconvert_exporter": "python",
   "pygments_lexer": "ipython3",
   "version": "3.12.6"
  }
 },
 "nbformat": 4,
 "nbformat_minor": 2
}
