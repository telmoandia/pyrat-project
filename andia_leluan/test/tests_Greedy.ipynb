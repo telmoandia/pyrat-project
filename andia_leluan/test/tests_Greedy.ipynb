{
 "cells": [
  {
   "cell_type": "markdown",
   "metadata": {},
   "source": [
    "<h1 style=\"background-color: gray;\n",
    "           color: black;\n",
    "           padding: 20px;\n",
    "           text-align: center;\">INFO</h1>\n",
    "\n",
    "In this script, we create a class that will structure the unit tests for the `GREEDY` player. \\\n",
    "We choose to use the `unittest` library. \\\n",
    "Then, we run them to ensure that all methods developed work as expected."
   ]
  },
  {
   "cell_type": "markdown",
   "metadata": {},
   "source": [
    "<h1 style=\"background-color: gray;\n",
    "           color: black;\n",
    "           padding: 20px;\n",
    "           text-align: center;\">IMPORTS</h1>"
   ]
  },
  {
   "cell_type": "code",
   "execution_count": 33,
   "metadata": {},
   "outputs": [],
   "source": [
    "# External imports\n",
    "from typing import *\n",
    "from typing_extensions import *\n",
    "from numbers import *\n",
    "import unittest\n",
    "import sys\n",
    "import os\n",
    "import random\n",
    "\n",
    "\n",
    "#Â Add needed directories to the path\n",
    "sys.path.append(os.path.join(\"..\", \"players\"))\n",
    "\n",
    "# PyRat imports\n",
    "from Greedy1 import Greedy\n",
    "from pyrat import BigHolesRandomMaze, Action"
   ]
  },
  {
   "cell_type": "markdown",
   "metadata": {},
   "source": [
    "<h1 style=\"background-color: gray;\n",
    "           color: black;\n",
    "           padding: 20px;\n",
    "           text-align: center;\">DEFINE THE TESTS</h1>\n",
    "\n",
    "The `unittest` library requires the creation of a class that extends `unittest.TestCase`. \\\n",
    "For each method to test, we need to define a method in the test class. \\\n",
    "Each of these test methods should call the tested method with various inputs to check that produced outputs match expected ones."
   ]
  },
  {
   "cell_type": "code",
   "execution_count": 34,
   "metadata": {},
   "outputs": [],
   "source": [
    "import unittest\n",
    "from pyrat import BigHolesRandomMaze, GameState, Player, Action\n",
    "from typing import List\n",
    "\n",
    "\n",
    "def create_game_state(player_location: int, cheeses: List[int]) -> GameState:\n",
    "    \"\"\"\n",
    "    Helper function to create a mock GameState object.\n",
    "    \"\"\"\n",
    "    game_state = GameState()\n",
    "    game_state._player_locations = {\"Greedy\": player_location}\n",
    "    game_state._cheese = cheeses\n",
    "    return game_state\n",
    "\n",
    "\n",
    "class GreedyTests(unittest.TestCase):\n",
    "    \"\"\"\n",
    "    Test class for the Greedy player.\n",
    "    \"\"\"\n",
    "\n",
    "    def setUp(self) -> None:\n",
    "        \"\"\"\n",
    "        Set up a mock maze and game state for testing.\n",
    "        \"\"\"\n",
    "        self.maze = BigHolesRandomMaze(\n",
    "            width=5, height=5, cell_percentage=100.0, wall_percentage=0.0, mud_percentage=0.0, random_seed=42\n",
    "        )\n",
    "        self.game_state = create_game_state(player_location=0, cheeses=[2, 4, 6, 8])\n",
    "        self.player = Greedy(name=\"Greedy\")\n",
    "\n",
    "    def test_compute_greedy_path(self) -> None:\n",
    "        \"\"\"\n",
    "        Tests the compute_greedy_path function.\n",
    "        \"\"\"\n",
    "        path = self.player.compute_greedy_path(self.maze, 0, list(self.game_state._cheese))\n",
    "        self.assertIsInstance(path, list)\n",
    "        self.assertTrue(all(isinstance(location, int) for location in path))\n",
    "        self.assertTrue(all(cheese in path for cheese in self.game_state._cheese))\n",
    "\n",
    "    def test_find_closest_cheese(self) -> None:\n",
    "        \"\"\"\n",
    "        Tests the find_closest_cheese function.\n",
    "        \"\"\"\n",
    "        closest_cheese, path = self.player.find_closest_cheese(self.maze, 0, list(self.game_state._cheese))\n",
    "        self.assertIn(closest_cheese, self.game_state._cheese)\n",
    "        self.assertIsInstance(path, list)\n",
    "        self.assertEqual(path[0], 0)\n",
    "        self.assertEqual(path[-1], closest_cheese)\n"
   ]
  },
  {
   "cell_type": "markdown",
   "metadata": {},
   "source": [
    "<h1 style=\"background-color: gray;\n",
    "           color: black;\n",
    "           padding: 20px;\n",
    "           text-align: center;\">RUN THE TESTS</h1>\n",
    "           \n",
    "When calling `unittest.main()`, all methods in the test class above will be run."
   ]
  },
  {
   "cell_type": "code",
   "execution_count": 35,
   "metadata": {},
   "outputs": [
    {
     "name": "stderr",
     "output_type": "stream",
     "text": [
      "test_compute_greedy_path (__main__.GreedyTests.test_compute_greedy_path)\n",
      "Tests the compute_greedy_path function. ... ok\n",
      "test_find_closest_cheese (__main__.GreedyTests.test_find_closest_cheese)\n",
      "Tests the find_closest_cheese function. ... ok\n",
      "\n",
      "----------------------------------------------------------------------\n",
      "Ran 2 tests in 0.016s\n",
      "\n",
      "OK\n"
     ]
    },
    {
     "name": "stdout",
     "output_type": "stream",
     "text": [
      "Greedy Cheese Collector Initialized\n",
      "Greedy Cheese Collector Initialized\n"
     ]
    }
   ],
   "source": [
    "# Run all tests\n",
    "_ = unittest.main(argv=[\"\"], verbosity=2, exit=False)"
   ]
  },
  {
   "cell_type": "code",
   "execution_count": 36,
   "metadata": {},
   "outputs": [
    {
     "ename": "NameError",
     "evalue": "name 'player' is not defined",
     "output_type": "error",
     "traceback": [
      "\u001b[1;31m---------------------------------------------------------------------------\u001b[0m",
      "\u001b[1;31mNameError\u001b[0m                                 Traceback (most recent call last)",
      "Cell \u001b[1;32mIn[36], line 4\u001b[0m\n\u001b[0;32m      1\u001b[0m \u001b[38;5;66;03m#start_vertex = rng.choice(maze.vertices)\u001b[39;00m\n\u001b[0;32m      2\u001b[0m \n\u001b[0;32m      3\u001b[0m \u001b[38;5;66;03m# Perform the traversal\u001b[39;00m\n\u001b[1;32m----> 4\u001b[0m distances, routing_table \u001b[38;5;241m=\u001b[39m \u001b[43mplayer\u001b[49m\u001b[38;5;241m.\u001b[39mtraversal(maze, \u001b[38;5;241m0\u001b[39m) \n",
      "\u001b[1;31mNameError\u001b[0m: name 'player' is not defined"
     ]
    }
   ],
   "source": [
    "#start_vertex = rng.choice(maze.vertices)\n",
    "\n",
    "# Perform the traversal\n",
    "distances, routing_table = player.traversal(maze, 0) \n",
    "\n"
   ]
  }
 ],
 "metadata": {
  "kernelspec": {
   "display_name": "Python 3",
   "language": "python",
   "name": "python3"
  },
  "language_info": {
   "codemirror_mode": {
    "name": "ipython",
    "version": 3
   },
   "file_extension": ".py",
   "mimetype": "text/x-python",
   "name": "python",
   "nbconvert_exporter": "python",
   "pygments_lexer": "ipython3",
   "version": "3.12.6"
  }
 },
 "nbformat": 4,
 "nbformat_minor": 2
}
